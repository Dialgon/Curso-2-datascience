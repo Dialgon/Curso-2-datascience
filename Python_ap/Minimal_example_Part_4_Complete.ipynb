{
 "cells": [
  {
   "cell_type": "markdown",
   "metadata": {},
   "source": [
    "# Simple Linear Regression. Minimal example"
   ]
  },
  {
   "cell_type": "markdown",
   "metadata": {},
   "source": [
    "### Import the relevant libraries"
   ]
  },
  {
   "cell_type": "code",
   "execution_count": 1,
   "metadata": {},
   "outputs": [],
   "source": [
    "# We must always import the relevant libraries for our problem at hand. NumPy is a must for this example.\n",
    "import numpy as np\n",
    "\n",
    "# matplotlib and mpl_toolkits are not necessary. We employ them for the sole purpose of visualizing the results.  \n",
    "import matplotlib.pyplot as plt\n",
    "from mpl_toolkits.mplot3d import Axes3D"
   ]
  },
  {
   "cell_type": "markdown",
   "metadata": {},
   "source": [
    "### Generate random input data to train on"
   ]
  },
  {
   "cell_type": "code",
   "execution_count": 2,
   "metadata": {
    "scrolled": false
   },
   "outputs": [
    {
     "name": "stdout",
     "output_type": "stream",
     "text": [
      "(1000, 2)\n"
     ]
    }
   ],
   "source": [
    "# First, we should declare a variable containing the size of the training set we want to generate.\n",
    "observations = 1000\n",
    "\n",
    "# We will work with two variables as inputs. You can think about them as x1 and x2 in our previous examples.\n",
    "# We have picked x and z, since it is easier to differentiate them.\n",
    "# We generate them randomly, drawing from an uniform distribution. There are 3 arguments of this method (low, high, size).\n",
    "# The size of xs and zs is observations by 1. In this case: 1000 x 1.\n",
    "xs = np.random.uniform(low=-10, high=10, size=(observations,1))\n",
    "zs = np.random.uniform(-10, 10, (observations,1))\n",
    "\n",
    "# Combine the two dimensions of the input into one input matrix. \n",
    "# This is the X matrix from the linear model y = x*w + b.\n",
    "# column_stack is a Numpy method, which combines two vectors into a matrix. Alternatives are stack, dstack, hstack, etc.\n",
    "inputs = np.column_stack((xs,zs))\n",
    "\n",
    "# Check if the dimensions of the inputs are the same as the ones we defined in the linear model lectures. \n",
    "# They should be n x k, where n is the number of observations, and k is the number of variables, so 1000 x 2.\n",
    "print (inputs.shape)"
   ]
  },
  {
   "cell_type": "markdown",
   "metadata": {},
   "source": [
    "### Generate the targets we will aim at"
   ]
  },
  {
   "cell_type": "code",
   "execution_count": 3,
   "metadata": {},
   "outputs": [
    {
     "name": "stdout",
     "output_type": "stream",
     "text": [
      "(1000, 1)\n"
     ]
    }
   ],
   "source": [
    "# We want to \"make up\" a function, use the ML methodology, and see if the algorithm has learned it.\n",
    "# We add a small random noise to the function i.e. f(x,z) = 2x - 3z + 5 + <small noise>\n",
    "noise = np.random.uniform(-1, 1, (observations,1))\n",
    "\n",
    "# Produce the targets according to the f(x,z) = 2x - 3z + 5 + noise definition.\n",
    "# In this way, we are basically saying: the weights should be 2 and -3, while the bias is 5.\n",
    "targets = 2*xs - 3*zs + 5 + noise\n",
    "\n",
    "# Check the shape of the targets just in case. It should be n x m, where m is the number of output variables, so 1000 x 1.\n",
    "print (targets.shape)"
   ]
  },
  {
   "cell_type": "markdown",
   "metadata": {},
   "source": [
    "### Plot the training data\n",
    "The point is to see that there is a strong trend that our model should learn to reproduce."
   ]
  },
  {
   "cell_type": "code",
   "execution_count": 19,
   "metadata": {},
   "outputs": [
    {
     "data": {
      "image/png": "[encoded data removed]",
      "text/plain": [
       "<Figure size 432x288 with 1 Axes>"
      ]
     },
     "metadata": {
      "needs_background": "light"
     },
     "output_type": "display_data"
    }
   ],
   "source": [
    "# In order to use the 3D plot, the objects should have a certain shape, so we reshape the targets.\n",
    "# The proper method to use is reshape and takes as arguments the dimensions in which we want to fit the object.\n",
    "targets = targets.reshape(observations,1)\n",
    "\n",
    "# Plotting according to the conventional matplotlib.pyplot syntax\n",
    "\n",
    "# Declare the figure\n",
    "fig = plt.figure()\n",
    "\n",
    "# A method allowing us to create the 3D plot\n",
    "ax = fig.add_subplot(111, projection='3d')\n",
    "\n",
    "# Choose the axes.\n",
    "ax.plot(xs[:,0], zs[:,0], targets[:,0])\n",
    "\n",
    "# Set labels\n",
    "ax.set_xlabel('xs')\n",
    "ax.set_ylabel('zs')\n",
    "ax.set_zlabel('Targets')\n",
    "\n",
    "# You can fiddle with the azim parameter to plot the data from different angles. Just change the value of azim=100\n",
    "# to azim = 0 ; azim = 200, or whatever. Check and see what happens.\n",
    "ax.view_init(azim=100)\n",
    "\n",
    "# So far we were just describing the plot. This method actually shows the plot. \n",
    "plt.show()\n",
    "\n",
    "# We reshape the targets back to the shape that they were in before plotting.\n",
    "# This reshaping is a side-effect of the 3D plot. Sorry for that.\n",
    "targets = targets.reshape(observations,1)"
   ]
  },
  {
   "cell_type": "markdown",
   "metadata": {},
   "source": [
    "### Initialize variables"
   ]
  },
  {
   "cell_type": "code",
   "execution_count": 20,
   "metadata": {},
   "outputs": [
    {
     "name": "stdout",
     "output_type": "stream",
     "text": [
      "[[-0.06936841]\n",
      " [ 0.02558521]]\n",
      "[0.02728854]\n"
     ]
    }
   ],
   "source": [
    "# We will initialize the weights and biases randomly in some small initial range.\n",
    "# init_range is the variable that will measure that.\n",
    "# You can play around with the initial range, but we don't really encourage you to do so.\n",
    "# High initial ranges may prevent the machine learning algorithm from learning.\n",
    "init_range = 0.1\n",
    "\n",
    "# Weights are of size k x m, where k is the number of input variables and m is the number of output variables\n",
    "# In our case, the weights matrix is 2x1 since there are 2 inputs (x and z) and one output (y)\n",
    "weights = np.random.uniform(low=-init_range, high=init_range, size=(2, 1))\n",
    "\n",
    "# Biases are of size 1 since there is only 1 output. The bias is a scalar.\n",
    "biases = np.random.uniform(low=-init_range, high=init_range, size=1)\n",
    "\n",
    "#Print the weights to get a sense of how they were initialized.\n",
    "print (weights)\n",
    "print (biases)"
   ]
  },
  {
   "cell_type": "markdown",
   "metadata": {},
   "source": [
    "### Set a learning rate"
   ]
  },
  {
   "cell_type": "code",
   "execution_count": 21,
   "metadata": {},
   "outputs": [],
   "source": [
    "# Set some small learning rate (denoted eta in the lecture). \n",
    "# 0.02 is going to work quite well for our example. Once again, you can play around with it.\n",
    "# It is HIGHLY recommended that you play around with it.\n",
    "learning_rate = 0.02"
   ]
  },
  {
   "cell_type": "markdown",
   "metadata": {},
   "source": [
    "### Train the model"
   ]
  },
  {
   "cell_type": "code",
   "execution_count": 26,
   "metadata": {
    "scrolled": true
   },
   "outputs": [
    {
     "name": "stdout",
     "output_type": "stream",
     "text": [
      "0.16253001684661278\n",
      "0.16237332729654322\n",
      "0.1622228149107719\n",
      "0.16207823616725903\n",
      "0.1619393571443231\n",
      "0.16180595314216428\n",
      "0.16167780831931258\n",
      "0.16155471534340488\n",
      "0.16143647505573197\n",
      "0.16132289614900802\n",
      "0.1612137948578448\n",
      "0.16110899466142836\n",
      "0.1610083259979152\n",
      "0.1609116259900903\n",
      "0.16081873818183895\n",
      "0.160729512285008\n",
      "0.16064380393624655\n",
      "0.16056147446343297\n",
      "0.16048239066130976\n",
      "0.16040642457596346\n",
      "0.1603334532978015\n",
      "0.16026335876268996\n",
      "0.16019602756093154\n",
      "0.16013135075377344\n",
      "0.1600692236971501\n",
      "0.16000954587237373\n",
      "0.15995222072349974\n",
      "0.15989715550110356\n",
      "0.1598442611122166\n",
      "0.15979345197617809\n",
      "0.1597446458861692\n",
      "0.15969776387620646\n",
      "0.1596527300933784\n",
      "0.1596094716751191\n",
      "0.15956791863132003\n",
      "0.1595280037310889\n",
      "0.15948966239397402\n",
      "0.15945283258547502\n",
      "0.159417454716675\n",
      "0.1593834715478279\n",
      "0.15935082809574722\n",
      "0.15931947154484555\n",
      "0.1592893511616824\n",
      "0.15926041821287867\n",
      "0.15923262588626894\n",
      "0.1592059292151616\n",
      "0.15918028500558454\n",
      "0.15915565176639945\n",
      "0.15913198964217098\n",
      "0.15910926034868295\n",
      "0.1590874271109957\n",
      "0.15906645460394614\n",
      "0.15904630889499327\n",
      "0.1590269573893173\n",
      "0.15900836877708197\n",
      "0.1589905129827774\n",
      "0.15897336111655883\n",
      "0.15895688542750475\n",
      "0.15894105925871643\n",
      "0.15892585700418888\n",
      "0.15891125406738155\n",
      "0.15889722682142185\n",
      "0.1588837525708782\n",
      "0.1588708095150401\n",
      "0.15885837671264516\n",
      "0.15884643404799725\n",
      "0.15883496219842078\n",
      "0.15882394260299657\n",
      "0.15881335743253175\n",
      "0.15880318956071288\n",
      "0.15879342253639644\n",
      "0.1587840405569912\n",
      "0.1587750284428909\n",
      "0.15876637161291435\n",
      "0.15875805606071308\n",
      "0.1587500683321104\n",
      "0.1587423955033331\n",
      "0.15873502516010096\n",
      "0.1587279453775416\n",
      "0.1587211447008961\n",
      "0.15871461212698604\n",
      "0.15870833708641047\n",
      "0.15870230942644586\n",
      "0.1586965193946186\n",
      "0.1586909576229266\n",
      "0.1586856151126819\n",
      "0.15868048321995148\n",
      "0.1586755536415716\n",
      "0.1586708184017137\n",
      "0.15866626983897994\n",
      "0.15866190059400742\n",
      "0.158657703597561\n",
      "0.15865367205909564\n",
      "0.1586497994557696\n",
      "0.15864607952189083\n",
      "0.15864250623877943\n",
      "0.1586390738250295\n",
      "0.15863577672715512\n",
      "0.1586326096106055\n",
      "0.15862956735113312\n",
      "0.15862664502650384\n",
      "0.15862383790853238\n",
      "0.1586211414554324\n",
      "0.15861855130446803\n",
      "0.15861606326489572\n",
      "0.15861367331118292\n",
      "0.15861137757649607\n",
      "0.1586091723464428\n",
      "0.15860705405306383\n",
      "0.15860501926905862\n",
      "0.15860306470224167\n",
      "0.1586011871902146\n",
      "0.1585993836952502\n",
      "0.15859765129937767\n",
      "0.15859598719966106\n",
      "0.15859438870366427\n",
      "0.15859285322509528\n",
      "0.1585913782796212\n",
      "0.15858996148084875\n",
      "0.15858860053646345\n",
      "0.1585872932445206\n",
      "0.15858603748988268\n",
      "0.15858483124079698\n",
      "0.15858367254560887\n",
      "0.1585825595296031\n",
      "0.15858149039197167\n",
      "0.15858046340289964\n",
      "0.15857947690076646\n",
      "0.15857852928945743\n",
      "0.15857761903578182\n",
      "0.15857674466699131\n",
      "0.15857590476839784\n",
      "0.15857509798108466\n",
      "0.15857432299970745\n",
      "0.15857357857038226\n",
      "0.15857286348865718\n",
      "0.15857217659756317\n",
      "0.15857151678574247\n",
      "0.15857088298565009\n",
      "0.1585702741718271\n",
      "0.15856968935924104\n",
      "0.15856912760169223\n",
      "0.15856858799028334\n",
      "0.1585680696519479\n",
      "0.1585675717480388\n",
      "0.15856709347297063\n",
      "0.15856663405291652\n",
      "0.15856619274455624\n",
      "0.15856576883387344\n",
      "0.15856536163500015\n",
      "0.15856497048910778\n",
      "0.15856459476334048\n",
      "0.15856423384979115\n",
      "0.15856388716451864\n",
      "0.15856355414660236\n",
      "0.1585632342572347\n",
      "0.15856292697884958\n",
      "0.158562631814285\n",
      "0.15856234828597815\n",
      "0.15856207593519367\n",
      "0.1585618143212804\n",
      "0.15856156302095947\n",
      "0.1585613216276385\n",
      "0.15856108975075425\n",
      "0.15856086701514097\n",
      "0.1585606530604226\n",
      "0.15856044754043033\n",
      "0.15856025012264247\n",
      "0.15856006048764623\n",
      "0.15855987832862087\n",
      "0.15855970335084185\n",
      "0.1585595352712029\n",
      "0.1585593738177592\n",
      "0.15855921872928652\n",
      "0.15855906975485895\n",
      "0.15855892665344282\n",
      "0.15855878919350663\n",
      "0.15855865715264664\n",
      "0.1585585303172268\n",
      "0.15855840848203348\n",
      "0.15855829144994288\n",
      "0.15855817903160255\n",
      "0.1585580710451248\n",
      "0.15855796731579253\n",
      "0.15855786767577654\n",
      "0.15855777196386397\n",
      "0.15855768002519732\n",
      "0.1585575917110241\n",
      "0.15855750687845613\n",
      "0.1585574253902383\n",
      "0.15855734711452635\n",
      "0.1585572719246738\n",
      "0.1585571996990272\n",
      "0.1585571303207286\n",
      "0.15855706367752723\n",
      "0.15855699966159736\n",
      "0.1585569381693644\n",
      "0.15855687910133667\n",
      "0.15855682236194468\n",
      "0.15855676785938713\n",
      "0.15855671550548095\n",
      "0.15855666521552042\n",
      "0.15855661690813838\n",
      "0.15855657050517588\n",
      "0.15855652593155498\n",
      "0.15855648311515766\n",
      "0.15855644198670918\n",
      "0.15855640247966535\n",
      "0.15855636453010583\n",
      "0.15855632807662987\n",
      "0.15855629306025745\n",
      "0.15855625942433374\n",
      "0.1585562271144373\n",
      "0.15855619607829238\n",
      "0.1585561662656839\n",
      "0.15855613762837625\n",
      "0.1585561101200358\n",
      "0.15855608369615537\n",
      "0.1585560583139822\n",
      "0.1585560339324491\n",
      "0.15855601051210805\n",
      "0.15855598801506587\n",
      "0.15855596640492345\n",
      "0.15855594564671668\n",
      "0.15855592570685956\n",
      "0.15855590655309051\n",
      "0.15855588815441957\n",
      "0.1585558704810784\n",
      "0.15855585350447252\n",
      "0.15855583719713454\n",
      "0.15855582153267994\n",
      "0.15855580648576437\n",
      "0.15855579203204256\n",
      "0.1585557781481291\n",
      "0.15855576481156056\n",
      "0.15855575200075872\n",
      "0.15855573969499653\n",
      "0.1585557278743639\n",
      "0.15855571651973538\n",
      "0.15855570561273982\n",
      "0.1585556951357302\n",
      "0.15855568507175524\n",
      "0.1585556754045319\n",
      "0.1585556661184189\n",
      "0.15855565719839199\n",
      "0.1585556486300187\n",
      "0.15855564039943612\n",
      "0.15855563249332733\n",
      "0.1585556248989007\n",
      "0.15855561760386871\n",
      "0.1585556105964285\n",
      "0.15855560386524212\n",
      "0.15855559739941913\n",
      "0.1585555911884978\n",
      "0.1585555852224294\n",
      "0.1585555794915609\n",
      "0.15855557398662032\n",
      "0.15855556869870063\n",
      "0.15855556361924633\n",
      "0.15855555874003907\n",
      "0.15855555405318467\n",
      "0.15855554955109988\n",
      "0.1585555452265005\n",
      "0.15855554107238953\n",
      "0.15855553708204598\n",
      "0.1585555332490135\n",
      "0.15855552956709051\n",
      "0.1585555260303197\n",
      "0.15855552263297887\n",
      "0.15855551936957124\n",
      "0.15855551623481673\n",
      "0.15855551322364358\n",
      "0.15855551033117968\n",
      "0.15855550755274525\n",
      "0.15855550488384487\n",
      "0.15855550232016047\n",
      "0.15855549985754408\n",
      "0.1585554974920113\n",
      "0.15855549521973483\n",
      "0.15855549303703806\n",
      "0.15855549094038973\n",
      "0.15855548892639745\n",
      "0.15855548699180266\n",
      "0.1585554851334754\n",
      "0.15855548334840872\n",
      "0.15855548163371486\n",
      "0.1585554799866191\n",
      "0.15855547840445677\n",
      "0.15855547688466798\n",
      "0.15855547542479376\n",
      "0.15855547402247197\n",
      "0.15855547267543393\n",
      "0.15855547138150017\n",
      "0.15855547013857693\n",
      "0.15855546894465347\n",
      "0.15855546779779803\n",
      "0.158555466696155\n",
      "0.15855546563794196\n",
      "0.15855546462144687\n",
      "0.15855546364502496\n"
     ]
    }
   ],
   "source": [
    "# We iterate over our training dataset 100 times. That works well with a learning rate of 0.02.\n",
    "# The proper number of iterations is something we will talk about later on, but generally\n",
    "# a lower learning rate would need more iterations, while a higher learning rate would need less iterations\n",
    "# keep in mind that a high learning rate may cause the loss to diverge to infinity, instead of converge to 0.\n",
    "for i in range (300):\n",
    "    \n",
    "    # This is the linear model: y = xw + b equation\n",
    "    outputs = np.dot(inputs,weights) + biases\n",
    "    # The deltas are the differences between the outputs and the targets\n",
    "    # Note that deltas here is a vector 1000 x 1\n",
    "    deltas = outputs - targets\n",
    "        \n",
    "    # We are considering the L2-norm loss, but divided by 2, so it is consistent with the lectures.\n",
    "    # Moreover, we further divide it by the number of observations.\n",
    "    # This is simple rescaling by a constant. We explained that this doesn't change the optimization logic,\n",
    "    # as any function holding the basic property of being lower for better results, and higher for worse results\n",
    "    # can be a loss function.\n",
    "    loss = np.sum(deltas ** 2) / 2 / observations\n",
    "    \n",
    "    # We print the loss function value at each step so we can observe whether it is decreasing as desired.\n",
    "    print (loss)\n",
    "    \n",
    "    # Another small trick is to scale the deltas the same way as the loss function\n",
    "    # In this way our learning rate is independent of the number of samples (observations).\n",
    "    # Again, this doesn't change anything in principle, it simply makes it easier to pick a single learning rate\n",
    "    # that can remain the same if we change the number of training samples (observations).\n",
    "    # You can try solving the problem without rescaling to see how that works for you.\n",
    "    deltas_scaled = deltas / observations\n",
    "    \n",
    "    # Finally, we must apply the gradient descent update rules from the relevant lecture.\n",
    "    # The weights are 2x1, learning rate is 1x1 (scalar), inputs are 1000x2, and deltas_scaled are 1000x1\n",
    "    # We must transpose the inputs so that we get an allowed operation.\n",
    "    weights = weights - learning_rate * np.dot(inputs.T,deltas_scaled)\n",
    "    biases = biases - learning_rate * np.sum(deltas_scaled)\n",
    "    \n",
    "    # The weights are updated in a linear algebraic way (a matrix minus another matrix)\n",
    "    # The biases, however, are just a single number here, so we must transform the deltas into a scalar.\n",
    "    # The two lines are both consistent with the gradient descent methodology. "
   ]
  },
  {
   "cell_type": "markdown",
   "metadata": {},
   "source": [
    "### Print weights and biases and see if we have worked correctly."
   ]
  },
  {
   "cell_type": "code",
   "execution_count": 27,
   "metadata": {},
   "outputs": [
    {
     "name": "stdout",
     "output_type": "stream",
     "text": [
      "[[ 1.99185977]\n",
      " [-3.00063991]] [5.03326771]\n"
     ]
    }
   ],
   "source": [
    "# We print the weights and the biases, so we can see if they have converged to what we wanted.\n",
    "# When declared the targets, following the f(x,z), we knew the weights should be 2 and -3, while the bias: 5.\n",
    "print (weights, biases)\n",
    "\n",
    "# Note that they may be convergING. So more iterations are needed."
   ]
  },
  {
   "cell_type": "markdown",
   "metadata": {},
   "source": [
    "### Plot last outputs vs targets\n",
    "Since they are the last ones at the end of the training, they represent the final model accuracy. <br/>\n",
    "The closer this plot is to a 45 degree line, the closer target and output values are."
   ]
  },
  {
   "cell_type": "code",
   "execution_count": 28,
   "metadata": {},
   "outputs": [
    {
     "data": {
      "image/png": "[encoded data removed]",
      "text/plain": [
       "<Figure size 432x288 with 1 Axes>"
      ]
     },
     "metadata": {
      "needs_background": "light"
     },
     "output_type": "display_data"
    }
   ],
   "source": [
    "# We print the outputs and the targets in order to see if they have a linear relationship.\n",
    "# Again, that's not needed. Moreover, in later lectures, that would not even be possible.\n",
    "plt.plot(outputs,targets)\n",
    "plt.xlabel('outputs')\n",
    "plt.ylabel('targets')\n",
    "plt.show()"
   ]
  },
  {
   "cell_type": "code",
   "execution_count": null,
   "metadata": {},
   "outputs": [],
   "source": []
  }
 ],
 "metadata": {
  "anaconda-cloud": {},
  "kernelspec": {
   "display_name": "Python 3",
   "language": "python",
   "name": "python3"
  },
  "language_info": {
   "codemirror_mode": {
    "name": "ipython",
    "version": 3
   },
   "file_extension": ".py",
   "mimetype": "text/x-python",
   "name": "python",
   "nbconvert_exporter": "python",
   "pygments_lexer": "ipython3",
   "version": "3.8.8"
  }
 },
 "nbformat": 4,
 "nbformat_minor": 1
}
